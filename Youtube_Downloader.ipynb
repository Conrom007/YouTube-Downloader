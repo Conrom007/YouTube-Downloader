{
  "nbformat": 4,
  "nbformat_minor": 0,
  "metadata": {
    "colab": {
      "provenance": [],
      "collapsed_sections": [
        "uJS6dQ6znM92",
        "IJcUx4bonT_x",
        "u1cVEMaDnWOL",
        "XVLOZlQ5nXzl",
        "Tio76rstn0lf",
        "lII-H_88QheV",
        "w5y2DIiFy6AK"
      ]
    },
    "kernelspec": {
      "name": "python3",
      "display_name": "Python 3"
    },
    "language_info": {
      "name": "python"
    }
  },
  "cells": [
    {
      "cell_type": "markdown",
      "source": [
        "**Run these cell blocks individually and in the correct order. Make sure the runtime has restarted before moving from block 3 to block 4.**"
      ],
      "metadata": {
        "id": "JebEjUInP1k6"
      }
    },
    {
      "cell_type": "markdown",
      "source": [
        "#1. Initial Setup"
      ],
      "metadata": {
        "id": "uJS6dQ6znM92"
      }
    },
    {
      "cell_type": "markdown",
      "source": [
        "## Install"
      ],
      "metadata": {
        "id": "IJcUx4bonT_x"
      }
    },
    {
      "cell_type": "code",
      "source": [
        "!python -m pip -q install git+https://github.com/nficano/pytube\n"
      ],
      "metadata": {
        "colab": {
          "base_uri": "https://localhost:8080/"
        },
        "id": "cZsx7KAknPB9",
        "outputId": "95718263-5fe5-42a2-eb48-5db8c8f32f9c"
      },
      "execution_count": null,
      "outputs": [
        {
          "output_type": "stream",
          "name": "stdout",
          "text": [
            "  Preparing metadata (setup.py) ... \u001b[?25l\u001b[?25hdone\n"
          ]
        }
      ]
    },
    {
      "cell_type": "markdown",
      "source": [
        "##Import"
      ],
      "metadata": {
        "id": "u1cVEMaDnWOL"
      }
    },
    {
      "cell_type": "code",
      "source": [
        "  from pytube import YouTube\n",
        "  from sys import argv\n",
        "  from pytube import Playlist\n",
        "  from tqdm import tqdm\n",
        "  import IPython"
      ],
      "metadata": {
        "id": "oJV7hnsMnXb_"
      },
      "execution_count": null,
      "outputs": []
    },
    {
      "cell_type": "markdown",
      "source": [
        "#2. Fix error in innertube.py"
      ],
      "metadata": {
        "id": "XVLOZlQ5nXzl"
      }
    },
    {
      "cell_type": "code",
      "source": [
        "#read the content of the file\n",
        "file_path = '/usr/local/lib/python3.10/dist-packages/pytube/innertube.py'\n",
        "with open(file_path, 'r') as f:\n",
        "    file_lines = f.readlines()\n",
        "\n",
        "#modify the specific line (line 223)\n",
        "line_number_to_modify = 223\n",
        "modified_line = file_lines[line_number_to_modify - 1].replace('ANDROID_MUSIC', 'ANDROID')\n",
        "file_lines[line_number_to_modify - 1] = modified_line\n",
        "\n",
        "#mave the modified line 223 back to the file\n",
        "with open(file_path, 'w') as f:\n",
        "    f.writelines(file_lines)\n",
        "\n"
      ],
      "metadata": {
        "id": "bL30h0kUndHo"
      },
      "execution_count": null,
      "outputs": []
    },
    {
      "cell_type": "markdown",
      "source": [
        "# 3. Restart Runtime"
      ],
      "metadata": {
        "id": "Tio76rstn0lf"
      }
    },
    {
      "cell_type": "markdown",
      "source": [
        "##Force Restart"
      ],
      "metadata": {
        "id": "G6_3HXjpQrBg"
      }
    },
    {
      "cell_type": "code",
      "source": [
        "exit()\n"
      ],
      "metadata": {
        "id": "0XpXvNMCn2BV"
      },
      "execution_count": null,
      "outputs": []
    },
    {
      "cell_type": "markdown",
      "source": [
        "##Import time and wait"
      ],
      "metadata": {
        "id": "lII-H_88QheV"
      }
    },
    {
      "cell_type": "code",
      "source": [
        "import time"
      ],
      "metadata": {
        "id": "By77GB9VQjkb"
      },
      "execution_count": null,
      "outputs": []
    },
    {
      "cell_type": "code",
      "source": [
        "time.sleep(10)"
      ],
      "metadata": {
        "id": "quKZiKdOQlFu"
      },
      "execution_count": null,
      "outputs": []
    },
    {
      "cell_type": "markdown",
      "source": [
        "# 4. Import again and define function"
      ],
      "metadata": {
        "id": "CkpM8obyyunX"
      }
    },
    {
      "cell_type": "markdown",
      "source": [
        "## Import"
      ],
      "metadata": {
        "id": "w5y2DIiFy6AK"
      }
    },
    {
      "cell_type": "code",
      "source": [
        "  from pytube import YouTube\n",
        "  from sys import argv\n",
        "  from pytube import Playlist\n",
        "  from tqdm import tqdm\n",
        "  import IPython\n",
        "  import pandas as pd"
      ],
      "metadata": {
        "id": "lLnvdVbooQP4"
      },
      "execution_count": null,
      "outputs": []
    },
    {
      "cell_type": "markdown",
      "source": [
        "## Define Function"
      ],
      "metadata": {
        "id": "RbnDRbYPISv3"
      }
    },
    {
      "cell_type": "code",
      "source": [
        "def Downloader():\n",
        "\n",
        "  while True:\n",
        "    type_of_link = input(\"type V for Video and P for Playlist \")\n",
        "    if type_of_link == \"V\" or type_of_link == \"v\":\n",
        "      URL = input('insert URL ')\n",
        "      youtube = YouTube(URL, use_oauth = True)\n",
        "\n",
        "\n",
        "      downloader = youtube.streams.get_highest_resolution()\n",
        "      downloader.download('/content/drive/MyDrive/Youtube_Downloads')\n",
        "      break\n",
        "\n",
        "    elif type_of_link == \"P\" or type_of_link == \"p\":\n",
        "      URL = input('insert URL ')\n",
        "      playlist = Playlist(URL)\n",
        "      list_1 = playlist.video_urls\n",
        "\n",
        "\n",
        "\n",
        "      for url in tqdm(playlist.video_urls, total=len(playlist.video_urls)):\n",
        "        try:\n",
        "          downloaded_list = []\n",
        "          with open('/content/drive/MyDrive/Youtube_Downloads/Logs/{}_downloaded_list.csv'.format(playlist.title), 'r') as f:\n",
        "            for line in f:\n",
        "                downloaded_list.append(line.strip())\n",
        "\n",
        "          #print(downloaded_list)\n",
        "        except:\n",
        "          downloaded_list = []\n",
        "\n",
        "        if url in downloaded_list:\n",
        "          continue\n",
        "        else:\n",
        "          try:\n",
        "            youtube = YouTube(url,\n",
        "                              use_oauth = True,\n",
        "                              allow_oauth_cache = True\n",
        "                              )\n",
        "\n",
        "\n",
        "\n",
        "\n",
        "            downloader = youtube.streams.get_highest_resolution()\n",
        "            downloader.download('/content/drive/MyDrive/Youtube_Downloads/{}'.format(playlist.title))\n",
        "            downloaded_list += [url]\n",
        "            with open('/content/drive/MyDrive/Youtube_Downloads/Logs/{}_downloaded_list.csv'.format(playlist.title), 'w') as f:\n",
        "              for item in downloaded_list:\n",
        "                f.write(f'{item}\\n')\n",
        "          except:\n",
        "            print(f'\\nError: Skipping video ({youtube.title}).')\n",
        "            continue\n",
        "      print('\\nDownloading Finished.')\n",
        "      break\n",
        "\n",
        "    else:\n",
        "      print(\"Error: Unrecognised selection. Try Again.\")\n",
        "    continue"
      ],
      "metadata": {
        "id": "I5cpKfG4IVsp"
      },
      "execution_count": null,
      "outputs": []
    },
    {
      "cell_type": "markdown",
      "source": [
        "# 5. Run"
      ],
      "metadata": {
        "id": "4ab2pWkwJtGB"
      }
    },
    {
      "cell_type": "code",
      "source": [
        "Downloader()"
      ],
      "metadata": {
        "id": "uyUdq7ucKSRu"
      },
      "execution_count": null,
      "outputs": []
    }
  ]
}